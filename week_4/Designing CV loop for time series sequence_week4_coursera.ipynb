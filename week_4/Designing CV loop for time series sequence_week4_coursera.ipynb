{
 "cells": [
  {
   "cell_type": "code",
   "execution_count": 127,
   "id": "2972da28-6885-47e2-b9af-51f3183c32b7",
   "metadata": {},
   "outputs": [
    {
     "name": "stdout",
     "output_type": "stream",
     "text": [
      "2.14.0\n"
     ]
    }
   ],
   "source": [
    "\n",
    "import tensorflow as tf\n",
    "print(tf.__version__)\n"
   ]
  },
  {
   "cell_type": "code",
   "execution_count": 128,
   "id": "e4f62235-e76a-4238-8e5e-dcb707c9dffd",
   "metadata": {},
   "outputs": [
    {
     "name": "stdout",
     "output_type": "stream",
     "text": [
      "[PhysicalDevice(name='/physical_device:GPU:0', device_type='GPU')]\n"
     ]
    }
   ],
   "source": [
    "\n",
    "physical_devices = tf.config.list_physical_devices('GPU')\n",
    "print(physical_devices)\n"
   ]
  },
  {
   "cell_type": "code",
   "execution_count": 205,
   "id": "1bdbb203-a0c3-477b-b152-2d774360d080",
   "metadata": {},
   "outputs": [],
   "source": [
    "\n",
    "import numpy as np\n",
    "import matplotlib.pyplot as plt\n",
    "%matplotlib inline\n",
    "import pandas as pd\n",
    "import gc\n",
    "import csv\n",
    "import tensorflow as tf\n",
    "from sklearn.model_selection import TimeSeriesSplit\n",
    "from sklearn.model_selection import TimeSeriesSplit\n",
    "\n",
    "\n",
    "def plot_series(time, series, format=\"-\", start=0, end=None):\n",
    "    plt.plot(time[start:end], series[start:end], format)\n",
    "    plt.xlabel(\"Time\")\n",
    "    plt.ylabel(\"Value\")\n",
    "    plt.grid(True)\n"
   ]
  },
  {
   "cell_type": "code",
   "execution_count": 206,
   "id": "56aa95a4-090f-4a87-9290-76822258cc26",
   "metadata": {},
   "outputs": [
    {
     "name": "stdout",
     "output_type": "stream",
     "text": [
      "--2024-03-11 18:25:16--  https://raw.githubusercontent.com/jbrownlee/Datasets/master/daily-min-temperatures.csv\n",
      "Resolving raw.githubusercontent.com (raw.githubusercontent.com)... 185.199.108.133, 185.199.109.133, 185.199.110.133, ...\n",
      "Connecting to raw.githubusercontent.com (raw.githubusercontent.com)|185.199.108.133|:443... connected.\n",
      "HTTP request sent, awaiting response... 200 OK\n",
      "Length: 67921 (66K) [text/plain]\n",
      "Saving to: ‘/tmp/daily-min-temperatures.csv’\n",
      "\n",
      "/tmp/daily-min-temp 100%[===================>]  66.33K  --.-KB/s    in 0.008s  \n",
      "\n",
      "2024-03-11 18:25:16 (7.72 MB/s) - ‘/tmp/daily-min-temperatures.csv’ saved [67921/67921]\n",
      "\n"
     ]
    }
   ],
   "source": [
    "\n",
    "!wget --no-check-certificate \\\n",
    "    https://raw.githubusercontent.com/jbrownlee/Datasets/master/daily-min-temperatures.csv \\\n",
    "    -O /tmp/daily-min-temperatures.csv\n",
    "\n"
   ]
  },
  {
   "cell_type": "code",
   "execution_count": 9,
   "id": "0734ee1a-2abb-43e7-8775-cb935e619b8d",
   "metadata": {},
   "outputs": [],
   "source": [
    "\n",
    "df = pd.read_csv('/tmp/daily-min-temperatures.csv')\n",
    "# df = pd.read_csv(\"/Users/chidam_sp/daily_min_temperatures_week4_sequential_time_series_coursera.csv\")\n",
    "\n"
   ]
  },
  {
   "cell_type": "code",
   "execution_count": 10,
   "id": "0ef1cad9-aa50-4113-a8b8-20f3a837ac3f",
   "metadata": {},
   "outputs": [],
   "source": [
    "\n",
    "#Let's save a copy of this file in local\n",
    "\n",
    "df.to_csv(\"/Users/chidam_sp/daily_min_temperatures_week4_sequential_time_series_coursera.csv\", index=False) \n",
    "\n"
   ]
  },
  {
   "cell_type": "code",
   "execution_count": 130,
   "id": "3bf5decd-fab0-4f99-a2f2-ecef888cbdcd",
   "metadata": {},
   "outputs": [
    {
     "data": {
      "text/plain": [
       "3650"
      ]
     },
     "execution_count": 130,
     "metadata": {},
     "output_type": "execute_result"
    }
   ],
   "source": [
    "\n",
    "len(df)\n"
   ]
  },
  {
   "cell_type": "code",
   "execution_count": 131,
   "id": "2c3a2383-3f5b-4243-abd7-c879fcfe6952",
   "metadata": {},
   "outputs": [
    {
     "data": {
      "text/html": [
       "<div>\n",
       "<style scoped>\n",
       "    .dataframe tbody tr th:only-of-type {\n",
       "        vertical-align: middle;\n",
       "    }\n",
       "\n",
       "    .dataframe tbody tr th {\n",
       "        vertical-align: top;\n",
       "    }\n",
       "\n",
       "    .dataframe thead th {\n",
       "        text-align: right;\n",
       "    }\n",
       "</style>\n",
       "<table border=\"1\" class=\"dataframe\">\n",
       "  <thead>\n",
       "    <tr style=\"text-align: right;\">\n",
       "      <th></th>\n",
       "      <th>Date</th>\n",
       "      <th>Temp</th>\n",
       "    </tr>\n",
       "  </thead>\n",
       "  <tbody>\n",
       "    <tr>\n",
       "      <th>0</th>\n",
       "      <td>1981-01-01</td>\n",
       "      <td>20.7</td>\n",
       "    </tr>\n",
       "    <tr>\n",
       "      <th>1</th>\n",
       "      <td>1981-01-02</td>\n",
       "      <td>17.9</td>\n",
       "    </tr>\n",
       "    <tr>\n",
       "      <th>2</th>\n",
       "      <td>1981-01-03</td>\n",
       "      <td>18.8</td>\n",
       "    </tr>\n",
       "    <tr>\n",
       "      <th>3</th>\n",
       "      <td>1981-01-04</td>\n",
       "      <td>14.6</td>\n",
       "    </tr>\n",
       "    <tr>\n",
       "      <th>4</th>\n",
       "      <td>1981-01-05</td>\n",
       "      <td>15.8</td>\n",
       "    </tr>\n",
       "  </tbody>\n",
       "</table>\n",
       "</div>"
      ],
      "text/plain": [
       "         Date  Temp\n",
       "0  1981-01-01  20.7\n",
       "1  1981-01-02  17.9\n",
       "2  1981-01-03  18.8\n",
       "3  1981-01-04  14.6\n",
       "4  1981-01-05  15.8"
      ]
     },
     "execution_count": 131,
     "metadata": {},
     "output_type": "execute_result"
    }
   ],
   "source": [
    "\n",
    "df.head()\n"
   ]
  },
  {
   "cell_type": "code",
   "execution_count": 16,
   "id": "46594fe7-5370-42fd-8574-3b1599d0bf0a",
   "metadata": {},
   "outputs": [],
   "source": [
    "\n",
    "def raw_data_to_input(data_source):\n",
    "    time_step = []\n",
    "    temps = []\n",
    "    \n",
    "    with open(data_source) as csvfile:\n",
    "      reader = csv.reader(csvfile, delimiter=',')\n",
    "      next(reader)\n",
    "      step = 0\n",
    "      for row in reader:\n",
    "        temps.append(float(row[1]))\n",
    "        time_step.append(step)\n",
    "        step = step + 1\n",
    "    \n",
    "    series = np.array(temps)\n",
    "    time = np.array(time_step)\n",
    "    return series, time\n",
    "        \n",
    "\n"
   ]
  },
  {
   "cell_type": "code",
   "execution_count": 74,
   "id": "8c46314a-546a-4ca6-8d46-458d37e90860",
   "metadata": {},
   "outputs": [
    {
     "data": {
      "text/plain": [
       "array([20.7, 17.9, 18.8, ..., 13.5, 15.7, 13. ])"
      ]
     },
     "execution_count": 74,
     "metadata": {},
     "output_type": "execute_result"
    }
   ],
   "source": [
    "series"
   ]
  },
  {
   "cell_type": "code",
   "execution_count": 75,
   "id": "dc791344-9c40-4d3b-a716-fd72457faa68",
   "metadata": {},
   "outputs": [
    {
     "data": {
      "text/plain": [
       "array([   0,    1,    2, ..., 3647, 3648, 3649])"
      ]
     },
     "execution_count": 75,
     "metadata": {},
     "output_type": "execute_result"
    }
   ],
   "source": [
    "time"
   ]
  },
  {
   "cell_type": "code",
   "execution_count": 17,
   "id": "48fc54a5-cd66-43e1-ba7b-166216c62706",
   "metadata": {},
   "outputs": [],
   "source": [
    "\n",
    "series, time = raw_data_to_input('/tmp/daily-min-temperatures.csv')\n"
   ]
  },
  {
   "cell_type": "code",
   "execution_count": 18,
   "id": "7bd93d19-999a-49f5-9f9b-e0388259e5f9",
   "metadata": {},
   "outputs": [
    {
     "data": {
      "image/png": "[encoded data removed]",
      "text/plain": [
       "<Figure size 1000x600 with 1 Axes>"
      ]
     },
     "metadata": {},
     "output_type": "display_data"
    }
   ],
   "source": [
    "\n",
    "\n",
    "plt.figure(figsize=(10, 6))\n",
    "plot_series(time, series)\n"
   ]
  },
  {
   "cell_type": "code",
   "execution_count": 23,
   "id": "7c76cdb6-8cb0-495e-9bc2-f8244662e94a",
   "metadata": {},
   "outputs": [],
   "source": [
    "\n",
    "def split_train_test(split_time):\n",
    "\n",
    "    # Get the train set \n",
    "    time_train = time[:split_time]\n",
    "    x_train = series[:split_time]\n",
    "    \n",
    "    # Get the test set and keep it away to validate, only once, the final model's performance  \n",
    "    time_test = time[split_time:]\n",
    "    x_test = series[split_time:]\n",
    "\n",
    "    return time_train, x_train, time_test, x_test\n",
    "    \n"
   ]
  },
  {
   "cell_type": "code",
   "execution_count": 24,
   "id": "cc3bf857-f148-4cca-b5af-b4b348e9b273",
   "metadata": {},
   "outputs": [],
   "source": [
    "\n",
    "time_train, x_train, time_test, x_test = split_train_test(3400)\n",
    "\n"
   ]
  },
  {
   "cell_type": "code",
   "execution_count": 132,
   "id": "28fc89ab-76b8-4d1e-a64e-a91bd4a8bfc7",
   "metadata": {},
   "outputs": [
    {
     "data": {
      "text/plain": [
       "array([20.7, 17.9, 18.8, ..., 11.2, 12.7, 13.7])"
      ]
     },
     "execution_count": 132,
     "metadata": {},
     "output_type": "execute_result"
    }
   ],
   "source": [
    "x_train"
   ]
  },
  {
   "cell_type": "code",
   "execution_count": 79,
   "id": "474b1f32-35f3-4fbe-ada9-1f487ab96f89",
   "metadata": {},
   "outputs": [
    {
     "data": {
      "text/plain": [
       "array([   0,    1,    2, ..., 3397, 3398, 3399])"
      ]
     },
     "execution_count": 79,
     "metadata": {},
     "output_type": "execute_result"
    }
   ],
   "source": [
    "time_train"
   ]
  },
  {
   "cell_type": "code",
   "execution_count": 64,
   "id": "fd7dd63e-9dab-4067-bcaa-99552575b395",
   "metadata": {},
   "outputs": [
    {
     "data": {
      "text/plain": [
       "3400"
      ]
     },
     "execution_count": 64,
     "metadata": {},
     "output_type": "execute_result"
    }
   ],
   "source": [
    "\n",
    "len(x_train)\n"
   ]
  },
  {
   "cell_type": "code",
   "execution_count": 81,
   "id": "05db7235-7a6a-4f65-a480-7431ce8a6f71",
   "metadata": {},
   "outputs": [],
   "source": [
    "# Complicated way\n",
    "\n",
    "# def windowed_dataset(series, window_size, batch_size, shuffle_buffer):\n",
    "#     # YOUR CODE HERE\n",
    "#     \"\"\"Generates dataset windows\n",
    "\n",
    "#     Args:\n",
    "#       series (array of float) - contains the values of the time series\n",
    "#       window_size (int) - the number of time steps to include in the feature\n",
    "#       batch_size (int) - the batch size\n",
    "#       shuffle_buffer(int) - buffer size to use for the shuffle method\n",
    "\n",
    "#     Returns:\n",
    "#       dataset (TF Dataset) - TF Dataset containing time windows\n",
    "#     \"\"\"\n",
    "#     training_data = []\n",
    "#     label = []\n",
    "  \n",
    "#     # Generate a TF Dataset from the series values\n",
    "#     dataset = tf.data.Dataset.from_tensor_slices(series)\n",
    "\n",
    "    \n",
    "#     # Window the data but only take those with the specified size\n",
    "#     dataset = dataset.window(window_size + 1, shift=1, drop_remainder=True)\n",
    "    \n",
    "#     # Flatten the windows by putting its elements in a single batch\n",
    "#     dataset = dataset.flat_map(lambda window: window.batch(window_size + 1)) ##the None dimension invoked by window.batch is \n",
    "#     ##of course necessary \n",
    "\n",
    "#     # Create tuples with features and labels \n",
    "#     dataset = dataset.map(lambda window: (window[:-1], window[-1]))\n",
    "\n",
    "\n",
    "#     # # Shuffle the windows\n",
    "#     dataset = dataset.shuffle(shuffle_buffer)\n",
    "    \n",
    "#     # # Create batches of windows\n",
    "#     dataset = dataset.batch(batch_size).prefetch(1)\n",
    "\n",
    "#     for value, target in dataset:\n",
    "\n",
    "#         training_data.append((value))\n",
    "#         label.append((target))\n",
    "        \n",
    "        \n",
    "    \n",
    "#     return training_data, label\n"
   ]
  },
  {
   "cell_type": "code",
   "execution_count": 207,
   "id": "eda448fc-341d-4ad6-9e3b-4314568374e3",
   "metadata": {},
   "outputs": [],
   "source": [
    "\n",
    "def windowed_dataset(series, window_size, batch_size, shuffle_buffer=False):\n",
    "    \n",
    "    # Generate a TF Dataset from the series values\n",
    "    dataset = tf.data.Dataset.from_tensor_slices(series)\n",
    "    \n",
    "    # Window the data but only take those with the specified size\n",
    "    dataset = dataset.window(window_size + 1, shift=1, drop_remainder=True)\n",
    "    \n",
    "    # Flatten the windows by putting its elements in a single batch\n",
    "    dataset = dataset.flat_map(lambda window: window.batch(window_size + 1)) ##the None dimension invoked by window.batch is \n",
    "    ##of course necessary \n",
    "\n",
    "    # Create tuples with features and labels \n",
    "    dataset = dataset.map(lambda window: (window[:-1], window[-1]))\n",
    "\n",
    "    if shuffle_buffer:\n",
    "        # # Shuffle the windows\n",
    "        dataset = dataset.shuffle(shuffle_buffer)\n",
    "    \n",
    "    # # Create batches of windows\n",
    "    dataset = dataset.batch(batch_size).prefetch(1)\n",
    "        \n",
    "    return dataset\n",
    "\n"
   ]
  },
  {
   "cell_type": "code",
   "execution_count": 215,
   "id": "5656b7d4-f711-41a9-86da-ade7cd218aca",
   "metadata": {},
   "outputs": [],
   "source": [
    "\n",
    "def model_build():\n",
    "    tf.random.set_seed(51)\n",
    "    np.random.seed(51)\n",
    "    model = tf.keras.models.Sequential([\n",
    "      tf.keras.layers.Lambda(lambda x: tf.expand_dims(x, axis=-1),\n",
    "                      input_shape=[None]),\n",
    "      tf.keras.layers.Bidirectional(tf.keras.layers.LSTM(16, return_sequences=True)),\n",
    "      tf.keras.layers.Bidirectional(tf.keras.layers.LSTM(32)),\n",
    "      tf.keras.layers.Dense(1),\n",
    "      tf.keras.layers.Lambda(lambda x: x * 100.0)\n",
    "    ])\n",
    "\n",
    "    optimizer = tf.keras.optimizers.legacy.SGD(momentum=0.9)\n",
    "    model.compile(loss=tf.keras.losses.Huber(),\n",
    "              optimizer=optimizer,\n",
    "              metrics=[\"mae\"])\n",
    "    return model\n",
    "\n"
   ]
  },
  {
   "cell_type": "code",
   "execution_count": 261,
   "id": "7164d71e-4bdd-4ca3-88f2-60b278b2367b",
   "metadata": {},
   "outputs": [
    {
     "data": {
      "text/plain": [
       "3650"
      ]
     },
     "execution_count": 261,
     "metadata": {},
     "output_type": "execute_result"
    }
   ],
   "source": [
    "len(series)"
   ]
  },
  {
   "cell_type": "code",
   "execution_count": 262,
   "id": "e5b38c88-1f49-49c6-9ea2-387210998750",
   "metadata": {},
   "outputs": [
    {
     "data": {
      "text/plain": [
       "730.0"
      ]
     },
     "execution_count": 262,
     "metadata": {},
     "output_type": "execute_result"
    }
   ],
   "source": [
    "3650*0.20"
   ]
  },
  {
   "cell_type": "code",
   "execution_count": 275,
   "id": "07648ccc-98a2-461d-9d73-2b6b310ce1bd",
   "metadata": {},
   "outputs": [],
   "source": [
    "\n",
    "def cv_loop(n_splits, series, lr_schedule, window_size, batch_size, train_shuffle):\n",
    "\n",
    "    entire_history = {}\n",
    "\n",
    "    tscv = TimeSeriesSplit(n_splits, test_size=600)\n",
    "\n",
    "    for train_index, val_index in tscv.split(series):\n",
    "        tf.keras.backend.clear_session()\n",
    "        train_series, val_series = series[train_index], series[val_index]\n",
    "    \n",
    "        # Apply your windowed_dataset function to create TF datasets\n",
    "        train_dataset = windowed_dataset(train_series, window_size, batch_size, train_shuffle)\n",
    "        val_dataset = windowed_dataset(val_series, window_size, batch_size, shuffle_buffer=False)  # Note: Might not need to shuffle the test/validation set\n",
    "        \n",
    "        # Example model training and evaluation\n",
    "        model = model_build()  # Function to create your model\n",
    "    \n",
    "        history = model.fit(train_dataset, epochs=10, validation_data=val_dataset, callbacks=[lr_schedule], verbose=1)\n",
    "        entire_history.update(history.history)\n",
    "    \n",
    "    return entire_history\n",
    "        \n"
   ]
  },
  {
   "cell_type": "code",
   "execution_count": 276,
   "id": "03bcd4e0-d5fc-41b5-b52b-48324d0d8cc1",
   "metadata": {},
   "outputs": [],
   "source": [
    "window_size = 30\n",
    "batch_size = 32\n",
    "# shuffle_buffer_size = 600\n",
    "n_splits = 3\n",
    "lr_schedule = tf.keras.callbacks.LearningRateScheduler(lambda epoch: 1e-6 * 10**(epoch / 20))\n",
    "\n"
   ]
  },
  {
   "cell_type": "code",
   "execution_count": 277,
   "id": "ada9d4c7-9e30-403a-9a25-5275700750b3",
   "metadata": {},
   "outputs": [
    {
     "name": "stdout",
     "output_type": "stream",
     "text": [
      "Epoch 1/10\n",
      "     50/Unknown - 8s 77ms/step - loss: 3.1271 - mae: 3.5972"
     ]
    },
    {
     "name": "stderr",
     "output_type": "stream",
     "text": [
      "2024-03-11 18:47:27.666460: I tensorflow/core/framework/local_rendezvous.cc:421] Local rendezvous recv item cancelled. Key hash: 6800770782363861766\n",
      "2024-03-11 18:47:27.666473: I tensorflow/core/framework/local_rendezvous.cc:421] Local rendezvous recv item cancelled. Key hash: 2046703365598763984\n",
      "2024-03-11 18:47:27.666477: I tensorflow/core/framework/local_rendezvous.cc:421] Local rendezvous recv item cancelled. Key hash: 15901792544348005593\n",
      "2024-03-11 18:47:27.666496: I tensorflow/core/framework/local_rendezvous.cc:421] Local rendezvous recv item cancelled. Key hash: 17479980642100060928\n",
      "2024-03-11 18:47:27.666502: I tensorflow/core/framework/local_rendezvous.cc:421] Local rendezvous recv item cancelled. Key hash: 574612551388546600\n"
     ]
    },
    {
     "name": "stdout",
     "output_type": "stream",
     "text": [
      "50/50 [==============================] - 10s 109ms/step - loss: 3.1271 - mae: 3.5972 - val_loss: 2.0500 - val_mae: 2.5109 - lr: 1.0000e-06\n",
      "Epoch 2/10\n",
      " 4/50 [=>............................] - ETA: 1s - loss: 2.2744 - mae: 2.7301"
     ]
    },
    {
     "name": "stderr",
     "output_type": "stream",
     "text": [
      "2024-03-11 18:47:29.220055: I tensorflow/core/framework/local_rendezvous.cc:421] Local rendezvous recv item cancelled. Key hash: 16834384202421144992\n",
      "2024-03-11 18:47:29.220075: I tensorflow/core/framework/local_rendezvous.cc:421] Local rendezvous recv item cancelled. Key hash: 18320276400750526241\n",
      "2024-03-11 18:47:29.220080: I tensorflow/core/framework/local_rendezvous.cc:421] Local rendezvous recv item cancelled. Key hash: 13410326744965630163\n",
      "2024-03-11 18:47:29.220085: I tensorflow/core/framework/local_rendezvous.cc:421] Local rendezvous recv item cancelled. Key hash: 16997745998076452205\n",
      "2024-03-11 18:47:29.220088: I tensorflow/core/framework/local_rendezvous.cc:421] Local rendezvous recv item cancelled. Key hash: 18090838176501485349\n"
     ]
    },
    {
     "name": "stdout",
     "output_type": "stream",
     "text": [
      "50/50 [==============================] - 2s 30ms/step - loss: 2.1787 - mae: 2.6343 - val_loss: 1.7790 - val_mae: 2.2344 - lr: 1.1220e-06\n",
      "Epoch 3/10\n",
      "50/50 [==============================] - 1s 27ms/step - loss: 2.0599 - mae: 2.5163 - val_loss: 1.7241 - val_mae: 2.1817 - lr: 1.2589e-06\n",
      "Epoch 4/10\n",
      "50/50 [==============================] - 1s 29ms/step - loss: 1.9585 - mae: 2.4170 - val_loss: 1.6640 - val_mae: 2.1201 - lr: 1.4125e-06\n",
      "Epoch 5/10\n",
      "50/50 [==============================] - 1s 27ms/step - loss: 1.8974 - mae: 2.3524 - val_loss: 1.7235 - val_mae: 2.1722 - lr: 1.5849e-06\n",
      "Epoch 6/10\n",
      "50/50 [==============================] - 1s 27ms/step - loss: 1.8667 - mae: 2.3203 - val_loss: 1.6053 - val_mae: 2.0548 - lr: 1.7783e-06\n",
      "Epoch 7/10\n",
      "50/50 [==============================] - 2s 31ms/step - loss: 1.8088 - mae: 2.2623 - val_loss: 1.6227 - val_mae: 2.0713 - lr: 1.9953e-06\n",
      "Epoch 8/10\n",
      "50/50 [==============================] - 1s 27ms/step - loss: 1.8467 - mae: 2.3029 - val_loss: 1.5723 - val_mae: 2.0226 - lr: 2.2387e-06\n",
      "Epoch 9/10\n",
      "50/50 [==============================] - 1s 28ms/step - loss: 1.7638 - mae: 2.2135 - val_loss: 1.6140 - val_mae: 2.0681 - lr: 2.5119e-06\n",
      "Epoch 10/10\n",
      "50/50 [==============================] - 1s 27ms/step - loss: 1.7395 - mae: 2.1897 - val_loss: 1.5557 - val_mae: 2.0005 - lr: 2.8184e-06\n",
      "Epoch 1/10\n",
      "     68/Unknown - 6s 56ms/step - loss: 5.2196 - mae: 5.6931"
     ]
    },
    {
     "name": "stderr",
     "output_type": "stream",
     "text": [
      "2024-03-11 18:47:48.862056: I tensorflow/core/framework/local_rendezvous.cc:421] Local rendezvous recv item cancelled. Key hash: 2046703365598763984\n",
      "2024-03-11 18:47:48.862071: I tensorflow/core/framework/local_rendezvous.cc:421] Local rendezvous recv item cancelled. Key hash: 6800770782363861766\n",
      "2024-03-11 18:47:48.862091: I tensorflow/core/framework/local_rendezvous.cc:421] Local rendezvous recv item cancelled. Key hash: 17479980642100060928\n",
      "2024-03-11 18:47:48.862101: I tensorflow/core/framework/local_rendezvous.cc:421] Local rendezvous recv item cancelled. Key hash: 574612551388546600\n",
      "2024-03-11 18:47:48.862106: I tensorflow/core/framework/local_rendezvous.cc:421] Local rendezvous recv item cancelled. Key hash: 15901792544348005593\n"
     ]
    },
    {
     "name": "stdout",
     "output_type": "stream",
     "text": [
      "68/68 [==============================] - 7s 75ms/step - loss: 5.2196 - mae: 5.6931 - val_loss: 2.2081 - val_mae: 2.6650 - lr: 1.0000e-06\n",
      "Epoch 2/10\n",
      " 7/68 [==>...........................] - ETA: 1s - loss: 2.3247 - mae: 2.7802"
     ]
    },
    {
     "name": "stderr",
     "output_type": "stream",
     "text": [
      "2024-03-11 18:47:50.137835: I tensorflow/core/framework/local_rendezvous.cc:421] Local rendezvous recv item cancelled. Key hash: 16834384202421144992\n",
      "2024-03-11 18:47:50.137852: I tensorflow/core/framework/local_rendezvous.cc:421] Local rendezvous recv item cancelled. Key hash: 13410326744965630163\n",
      "2024-03-11 18:47:50.137862: I tensorflow/core/framework/local_rendezvous.cc:421] Local rendezvous recv item cancelled. Key hash: 16997745998076452205\n",
      "2024-03-11 18:47:50.137865: I tensorflow/core/framework/local_rendezvous.cc:421] Local rendezvous recv item cancelled. Key hash: 18320276400750526241\n"
     ]
    },
    {
     "name": "stdout",
     "output_type": "stream",
     "text": [
      "68/68 [==============================] - 2s 29ms/step - loss: 2.2670 - mae: 2.7269 - val_loss: 2.1071 - val_mae: 2.5632 - lr: 1.1220e-06\n",
      "Epoch 3/10\n",
      "68/68 [==============================] - 2s 26ms/step - loss: 2.1801 - mae: 2.6382 - val_loss: 2.0417 - val_mae: 2.4956 - lr: 1.2589e-06\n",
      "Epoch 4/10\n",
      "68/68 [==============================] - 2s 27ms/step - loss: 2.1337 - mae: 2.5891 - val_loss: 1.9769 - val_mae: 2.4298 - lr: 1.4125e-06\n",
      "Epoch 5/10\n",
      "68/68 [==============================] - 2s 26ms/step - loss: 2.0904 - mae: 2.5443 - val_loss: 1.9338 - val_mae: 2.3876 - lr: 1.5849e-06\n",
      "Epoch 6/10\n",
      "68/68 [==============================] - 2s 28ms/step - loss: 2.0715 - mae: 2.5278 - val_loss: 2.0058 - val_mae: 2.4577 - lr: 1.7783e-06\n",
      "Epoch 7/10\n",
      "68/68 [==============================] - 2s 31ms/step - loss: 2.0155 - mae: 2.4698 - val_loss: 1.8429 - val_mae: 2.2958 - lr: 1.9953e-06\n",
      "Epoch 8/10\n",
      "68/68 [==============================] - 2s 29ms/step - loss: 1.9771 - mae: 2.4307 - val_loss: 1.8259 - val_mae: 2.2791 - lr: 2.2387e-06\n",
      "Epoch 9/10\n",
      "68/68 [==============================] - 2s 26ms/step - loss: 1.9428 - mae: 2.3941 - val_loss: 1.7688 - val_mae: 2.2241 - lr: 2.5119e-06\n",
      "Epoch 10/10\n",
      "68/68 [==============================] - 2s 26ms/step - loss: 1.9175 - mae: 2.3708 - val_loss: 1.7432 - val_mae: 2.1963 - lr: 2.8184e-06\n",
      "Epoch 1/10\n",
      "     87/Unknown - 7s 49ms/step - loss: 5.7245 - mae: 6.2005"
     ]
    },
    {
     "name": "stderr",
     "output_type": "stream",
     "text": [
      "2024-03-11 18:48:14.631906: I tensorflow/core/framework/local_rendezvous.cc:421] Local rendezvous recv item cancelled. Key hash: 6800770782363861766\n",
      "2024-03-11 18:48:14.631933: I tensorflow/core/framework/local_rendezvous.cc:421] Local rendezvous recv item cancelled. Key hash: 15901792544348005593\n"
     ]
    },
    {
     "name": "stdout",
     "output_type": "stream",
     "text": [
      "87/87 [==============================] - 8s 67ms/step - loss: 5.7245 - mae: 6.2005 - val_loss: 2.5559 - val_mae: 3.0217 - lr: 1.0000e-06\n",
      "Epoch 2/10\n",
      " 7/87 [=>............................] - ETA: 1s - loss: 2.5211 - mae: 2.9915"
     ]
    },
    {
     "name": "stderr",
     "output_type": "stream",
     "text": [
      "2024-03-11 18:48:16.172427: I tensorflow/core/framework/local_rendezvous.cc:421] Local rendezvous recv item cancelled. Key hash: 16834384202421144992\n",
      "2024-03-11 18:48:16.172451: I tensorflow/core/framework/local_rendezvous.cc:421] Local rendezvous recv item cancelled. Key hash: 13410326744965630163\n",
      "2024-03-11 18:48:16.172473: I tensorflow/core/framework/local_rendezvous.cc:421] Local rendezvous recv item cancelled. Key hash: 18090838176501485349\n",
      "2024-03-11 18:48:16.172477: I tensorflow/core/framework/local_rendezvous.cc:421] Local rendezvous recv item cancelled. Key hash: 16997745998076452205\n",
      "2024-03-11 18:48:16.172480: I tensorflow/core/framework/local_rendezvous.cc:421] Local rendezvous recv item cancelled. Key hash: 18320276400750526241\n"
     ]
    },
    {
     "name": "stdout",
     "output_type": "stream",
     "text": [
      "87/87 [==============================] - 2s 26ms/step - loss: 2.1104 - mae: 2.5689 - val_loss: 1.9054 - val_mae: 2.3618 - lr: 1.1220e-06\n",
      "Epoch 3/10\n",
      "87/87 [==============================] - 2s 27ms/step - loss: 1.7727 - mae: 2.2229 - val_loss: 1.6923 - val_mae: 2.1420 - lr: 1.2589e-06\n",
      "Epoch 4/10\n",
      "87/87 [==============================] - 2s 24ms/step - loss: 1.7064 - mae: 2.1567 - val_loss: 1.6592 - val_mae: 2.1091 - lr: 1.4125e-06\n",
      "Epoch 5/10\n",
      "87/87 [==============================] - 2s 26ms/step - loss: 1.6891 - mae: 2.1363 - val_loss: 1.6875 - val_mae: 2.1401 - lr: 1.5849e-06\n",
      "Epoch 6/10\n",
      "87/87 [==============================] - 2s 26ms/step - loss: 1.6859 - mae: 2.1343 - val_loss: 1.6145 - val_mae: 2.0615 - lr: 1.7783e-06\n",
      "Epoch 7/10\n",
      "87/87 [==============================] - 2s 25ms/step - loss: 1.6573 - mae: 2.1019 - val_loss: 1.6041 - val_mae: 2.0505 - lr: 1.9953e-06\n",
      "Epoch 8/10\n",
      "87/87 [==============================] - 2s 25ms/step - loss: 1.6717 - mae: 2.1204 - val_loss: 1.6186 - val_mae: 2.0633 - lr: 2.2387e-06\n",
      "Epoch 9/10\n",
      "87/87 [==============================] - 2s 24ms/step - loss: 1.6598 - mae: 2.1063 - val_loss: 1.5742 - val_mae: 2.0195 - lr: 2.5119e-06\n",
      "Epoch 10/10\n",
      "87/87 [==============================] - 2s 24ms/step - loss: 1.6359 - mae: 2.0816 - val_loss: 1.5759 - val_mae: 2.0220 - lr: 2.8184e-06\n"
     ]
    }
   ],
   "source": [
    "\n",
    "history = cv_loop(n_splits, x_train, lr_schedule, window_size, batch_size, train_shuffle=600)\n"
   ]
  },
  {
   "cell_type": "code",
   "execution_count": 278,
   "id": "8a37b5da-470f-4c59-90b2-75690269c38a",
   "metadata": {},
   "outputs": [
    {
     "data": {
      "text/plain": [
       "{'loss': [5.724515438079834,\n",
       "  2.110377550125122,\n",
       "  1.7726643085479736,\n",
       "  1.7063591480255127,\n",
       "  1.6890671253204346,\n",
       "  1.6858609914779663,\n",
       "  1.6573339700698853,\n",
       "  1.6716972589492798,\n",
       "  1.6598308086395264,\n",
       "  1.635938048362732],\n",
       " 'mae': [6.200532913208008,\n",
       "  2.5689427852630615,\n",
       "  2.2229063510894775,\n",
       "  2.1567492485046387,\n",
       "  2.136322498321533,\n",
       "  2.1343324184417725,\n",
       "  2.101867437362671,\n",
       "  2.1203620433807373,\n",
       "  2.106342077255249,\n",
       "  2.081625461578369],\n",
       " 'val_loss': [2.55590558052063,\n",
       "  1.9054173231124878,\n",
       "  1.692261815071106,\n",
       "  1.6592128276824951,\n",
       "  1.687463641166687,\n",
       "  1.6145273447036743,\n",
       "  1.60413658618927,\n",
       "  1.6185593605041504,\n",
       "  1.5742254257202148,\n",
       "  1.575939416885376],\n",
       " 'val_mae': [3.0217337608337402,\n",
       "  2.3617665767669678,\n",
       "  2.1419754028320312,\n",
       "  2.1091115474700928,\n",
       "  2.1400694847106934,\n",
       "  2.0615451335906982,\n",
       "  2.050527572631836,\n",
       "  2.063293218612671,\n",
       "  2.019467830657959,\n",
       "  2.021965265274048],\n",
       " 'lr': [1e-06,\n",
       "  1.1220185e-06,\n",
       "  1.2589254e-06,\n",
       "  1.4125376e-06,\n",
       "  1.5848932e-06,\n",
       "  1.7782794e-06,\n",
       "  1.9952622e-06,\n",
       "  2.2387212e-06,\n",
       "  2.5118864e-06,\n",
       "  2.8183829e-06]}"
      ]
     },
     "execution_count": 278,
     "metadata": {},
     "output_type": "execute_result"
    }
   ],
   "source": [
    "\n",
    "history\n"
   ]
  },
  {
   "cell_type": "code",
   "execution_count": 279,
   "id": "f850a29e-a2d1-467a-9a28-52e85fb1c947",
   "metadata": {},
   "outputs": [],
   "source": [
    "\n",
    "def plot_learning_curve_loss(history):\n",
    "    plt.plot(history['loss'], label='training_loss')\n",
    "    plt.plot(history['val_loss'], label='validation_loss')\n",
    "    plt.xlabel('Epoch')\n",
    "    plt.ylabel('Loss')\n",
    "    plt.ylim([1, 6])\n",
    "    plt.legend(loc='upper right')\n",
    "    plt.show()\n",
    "\n"
   ]
  },
  {
   "cell_type": "code",
   "execution_count": 280,
   "id": "6e1cf879-3327-41db-8814-75bb4db5e46e",
   "metadata": {},
   "outputs": [
    {
     "data": {
      "image/png": "[encoded data removed]",
      "text/plain": [
       "<Figure size 640x480 with 1 Axes>"
      ]
     },
     "metadata": {},
     "output_type": "display_data"
    }
   ],
   "source": [
    "\n",
    "\n",
    "plot_learning_curve_loss(history)\n"
   ]
  },
  {
   "cell_type": "code",
   "execution_count": 281,
   "id": "e8021fd9-357b-4379-8a27-43b97356ca8f",
   "metadata": {},
   "outputs": [],
   "source": [
    "\n",
    "def plot_learning_curve_metric(history):\n",
    "    plt.plot(history['mae'], label='training_mae')\n",
    "    plt.plot(history['val_mae'], label='validation_mae')\n",
    "    plt.xlabel('Epoch')\n",
    "    plt.ylabel('MAE')\n",
    "    plt.ylim([1, 7])\n",
    "    plt.legend(loc='upper right')\n"
   ]
  },
  {
   "cell_type": "code",
   "execution_count": 282,
   "id": "3fde5f11-f23e-4745-b6a0-a40548602aaf",
   "metadata": {},
   "outputs": [
    {
     "data": {
      "image/png": "[encoded data removed]",
      "text/plain": [
       "<Figure size 640x480 with 1 Axes>"
      ]
     },
     "metadata": {},
     "output_type": "display_data"
    }
   ],
   "source": [
    "\n",
    "plot_learning_curve_metric(history)\n"
   ]
  },
  {
   "cell_type": "code",
   "execution_count": 283,
   "id": "6a4208a4-1990-4f2b-b3f2-a804b3d53909",
   "metadata": {},
   "outputs": [],
   "source": [
    "from tensorflow.keras.backend import clear_session\n",
    "clear_session()"
   ]
  },
  {
   "cell_type": "code",
   "execution_count": 285,
   "id": "249854cb-7ac5-409b-ac61-2605ea9db418",
   "metadata": {},
   "outputs": [
    {
     "data": {
      "text/plain": [
       "67000"
      ]
     },
     "execution_count": 285,
     "metadata": {},
     "output_type": "execute_result"
    }
   ],
   "source": [
    "del history, df\n",
    "gc.collect()"
   ]
  }
 ],
 "metadata": {
  "kernelspec": {
   "display_name": "Python 3 (ipykernel)",
   "language": "python",
   "name": "python3"
  },
  "language_info": {
   "codemirror_mode": {
    "name": "ipython",
    "version": 3
   },
   "file_extension": ".py",
   "mimetype": "text/x-python",
   "name": "python",
   "nbconvert_exporter": "python",
   "pygments_lexer": "ipython3",
   "version": "3.9.6"
  }
 },
 "nbformat": 4,
 "nbformat_minor": 5
}
